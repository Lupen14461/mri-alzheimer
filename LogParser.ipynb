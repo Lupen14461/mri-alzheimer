{
 "cells": [
  {
   "cell_type": "code",
   "execution_count": null,
   "metadata": {},
   "outputs": [],
   "source": [
    "%load_ext autoreload\n",
    "%autoreload 2\n",
    "\n",
    "from brainiac.log_helper import parser_all_log\n",
    "from matplotlib import pyplot as plt\n",
    "%matplotlib inline"
   ]
  },
  {
   "cell_type": "code",
   "execution_count": null,
   "metadata": {},
   "outputs": [],
   "source": [
    "path = './trained_model/CNN/classes-CN-AD_optim-Adam_aug-1_sampling-1_lr-0.001_scheduler-1_pretrain-1/log6.log'\n",
    "all_train_loss, train_loss, train_acc, test_loss, test_acc = parser_all_log(path)"
   ]
  },
  {
   "cell_type": "code",
   "execution_count": null,
   "metadata": {},
   "outputs": [],
   "source": [
    "fig, ax = plt.subplots(1, 2, figsize=(15, 6))\n",
    "\n",
    "ax[0].set_title('Loss by epoch')\n",
    "ax[0].plot(train_loss, label='train')\n",
    "ax[0].plot(test_loss, label='test')\n",
    "ax[0].legend()\n",
    "\n",
    "ax[1].set_title('Accuracy by epoch')\n",
    "ax[1].plot(train_acc, label='train')\n",
    "ax[1].plot(test_acc, label='test')\n",
    "ax[1].legend()\n",
    "\n",
    "plt.show()"
   ]
  },
  {
   "cell_type": "code",
   "execution_count": null,
   "metadata": {},
   "outputs": [],
   "source": []
  }
 ],
 "metadata": {
  "kernelspec": {
   "display_name": "Python 3",
   "language": "python",
   "name": "python3"
  },
  "language_info": {
   "codemirror_mode": {
    "name": "ipython",
    "version": 3
   },
   "file_extension": ".py",
   "mimetype": "text/x-python",
   "name": "python",
   "nbconvert_exporter": "python",
   "pygments_lexer": "ipython3",
   "version": "3.6.9"
  }
 },
 "nbformat": 4,
 "nbformat_minor": 4
}
