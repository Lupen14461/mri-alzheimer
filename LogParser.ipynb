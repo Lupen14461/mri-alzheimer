{
 "cells": [
  {
   "cell_type": "code",
   "execution_count": null,
   "metadata": {},
   "outputs": [],
   "source": [
    "%load_ext autoreload\n",
    "%autoreload 2\n",
    "\n",
    "from brainiac.log_parser import old_parser_all_log, parser_all_log\n",
    "from matplotlib import pyplot as plt\n",
    "%matplotlib inline"
   ]
  },
  {
   "cell_type": "code",
   "execution_count": null,
   "metadata": {},
   "outputs": [],
   "source": [
    "path = './trained_model/ResNet50/classes-CN-AD_optim-Adam_aug-1_sampling-1_lr-0.001_scheduler-0_pretrain-1/log8.log'\n",
    "all_train_loss, train_loss, test_loss, train_acc, test_acc = old_parser_all_log(path)"
   ]
  },
  {
   "cell_type": "code",
   "execution_count": null,
   "metadata": {},
   "outputs": [],
   "source": [
    "plt.figure(figsize=(18, 9))\n",
    "plt.plot(all_train_loss)"
   ]
  },
  {
   "cell_type": "code",
   "execution_count": null,
   "metadata": {},
   "outputs": [],
   "source": [
    "fig, ax = plt.subplots(1, 2, figsize=(15, 6))\n",
    "\n",
    "ax[0].set_title('Loss by epoch')\n",
    "ax[0].plot(train_loss, label='train')\n",
    "ax[0].plot(test_loss, label='test')\n",
    "ax[0].set_ylim((0, 2))\n",
    "ax[0].legend()\n",
    "\n",
    "ax[1].set_title('Accuracy by epoch')\n",
    "ax[1].plot(train_acc, label='train')\n",
    "ax[1].plot(test_acc, label='test')\n",
    "ax[1].legend()\n",
    "\n",
    "plt.show()"
   ]
  },
  {
   "cell_type": "code",
   "execution_count": null,
   "metadata": {},
   "outputs": [],
   "source": [
    "path = './trained_model/ResNet152/classes-CN-AD_optim-Adam_aug-1_sampling-1_lr-5e-05_scheduler-0_pretrain-1/log0.log'\n",
    "all_train_loss, train_loss, test_loss, train_acc, test_acc, train_roc_auc, test_roc_auc = parser_all_log(path)"
   ]
  },
  {
   "cell_type": "code",
   "execution_count": null,
   "metadata": {},
   "outputs": [],
   "source": [
    "plt.figure(figsize=(18, 9))\n",
    "plt.plot(all_train_loss)\n",
    "plt.show()"
   ]
  },
  {
   "cell_type": "code",
   "execution_count": null,
   "metadata": {},
   "outputs": [],
   "source": [
    "fig = plt.figure(figsize=(15, 6))\n",
    "\n",
    "plt.subplot(1, 2, 1)\n",
    "plt.title('Loss by epoch')\n",
    "plt.plot(train_loss, label='train')\n",
    "plt.plot(test_loss, label='test')\n",
    "plt.ylim((0, 2))\n",
    "plt.legend()\n",
    "\n",
    "plt.subplot(2, 2, 2)\n",
    "plt.title('Accuracy by epoch')\n",
    "plt.plot(train_acc, label='train')\n",
    "plt.plot(test_acc, label='test')\n",
    "plt.legend()\n",
    "\n",
    "plt.subplot(2, 2, 4)\n",
    "plt.title('RocAuc by epoch')\n",
    "plt.plot(train_roc_auc, label='train')\n",
    "plt.plot(test_roc_auc, label='test')\n",
    "plt.legend()\n",
    "\n",
    "plt.show()"
   ]
  },
  {
   "cell_type": "code",
   "execution_count": null,
   "metadata": {},
   "outputs": [],
   "source": []
  }
 ],
 "metadata": {
  "kernelspec": {
   "display_name": "Python 3",
   "language": "python",
   "name": "python3"
  },
  "language_info": {
   "codemirror_mode": {
    "name": "ipython",
    "version": 3
   },
   "file_extension": ".py",
   "mimetype": "text/x-python",
   "name": "python",
   "nbconvert_exporter": "python",
   "pygments_lexer": "ipython3",
   "version": "3.7.3"
  }
 },
 "nbformat": 4,
 "nbformat_minor": 4
}
