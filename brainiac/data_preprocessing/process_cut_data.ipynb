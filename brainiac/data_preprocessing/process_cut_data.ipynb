{
 "cells": [
  {
   "cell_type": "code",
   "execution_count": 161,
   "metadata": {},
   "outputs": [],
   "source": [
    "import pandas as pd\n",
    "import numpy as np"
   ]
  },
  {
   "cell_type": "code",
   "execution_count": 162,
   "metadata": {},
   "outputs": [],
   "source": [
    "from matplotlib import pyplot as plt\n",
    "import re"
   ]
  },
  {
   "cell_type": "code",
   "execution_count": 184,
   "metadata": {},
   "outputs": [],
   "source": [
    "from os import listdir, rename\n",
    "from os.path import isfile, join\n",
    "onlyfiles = [f for f in listdir('/home/ADNI_cut/') if isfile(join('/home/ADNI_cut/', f))]"
   ]
  },
  {
   "cell_type": "code",
   "execution_count": 164,
   "metadata": {},
   "outputs": [],
   "source": [
    "# # rename all files \n",
    "# for file in onlyfiles:\n",
    "#     new_file = file.replace('-', '_')\n",
    "#     rename('/home/ADNI_cut/' + file, '/home/ADNI_cut/' + new_file)"
   ]
  },
  {
   "cell_type": "code",
   "execution_count": 185,
   "metadata": {},
   "outputs": [],
   "source": [
    "onlyfiles = [f for f in listdir('/home/ADNI_cut/') if isfile(join('/home/ADNI_cut/', f))]"
   ]
  },
  {
   "cell_type": "code",
   "execution_count": null,
   "metadata": {},
   "outputs": [],
   "source": []
  },
  {
   "cell_type": "code",
   "execution_count": 215,
   "metadata": {},
   "outputs": [],
   "source": [
    "cv = pd.read_csv('/home/ADNI-processed/data.csv')"
   ]
  },
  {
   "cell_type": "code",
   "execution_count": 220,
   "metadata": {},
   "outputs": [
    {
     "data": {
      "text/plain": [
       "CN      658\n",
       "MCI     322\n",
       "EMCI    160\n",
       "AD      100\n",
       "SMC      84\n",
       "LMCI     76\n",
       "Name: Group, dtype: int64"
      ]
     },
     "execution_count": 220,
     "metadata": {},
     "output_type": "execute_result"
    }
   ],
   "source": [
    "cv['Group'].value_counts()"
   ]
  },
  {
   "cell_type": "code",
   "execution_count": 187,
   "metadata": {},
   "outputs": [
    {
     "data": {
      "text/html": [
       "<div>\n",
       "<style scoped>\n",
       "    .dataframe tbody tr th:only-of-type {\n",
       "        vertical-align: middle;\n",
       "    }\n",
       "\n",
       "    .dataframe tbody tr th {\n",
       "        vertical-align: top;\n",
       "    }\n",
       "\n",
       "    .dataframe thead th {\n",
       "        text-align: right;\n",
       "    }\n",
       "</style>\n",
       "<table border=\"1\" class=\"dataframe\">\n",
       "  <thead>\n",
       "    <tr style=\"text-align: right;\">\n",
       "      <th></th>\n",
       "      <th>Image Data ID</th>\n",
       "      <th>Subject</th>\n",
       "      <th>Group</th>\n",
       "      <th>Sex</th>\n",
       "      <th>Age</th>\n",
       "      <th>Visit</th>\n",
       "      <th>Modality</th>\n",
       "      <th>Description</th>\n",
       "      <th>Type</th>\n",
       "      <th>Acq Date</th>\n",
       "      <th>Format</th>\n",
       "      <th>Downloaded</th>\n",
       "      <th>File Names</th>\n",
       "    </tr>\n",
       "  </thead>\n",
       "  <tbody>\n",
       "    <tr>\n",
       "      <th>0</th>\n",
       "      <td>1048378</td>\n",
       "      <td>941_S_6581</td>\n",
       "      <td>CN</td>\n",
       "      <td>F</td>\n",
       "      <td>74</td>\n",
       "      <td>1</td>\n",
       "      <td>MRI</td>\n",
       "      <td>Accelerated Sagittal MPRAGE</td>\n",
       "      <td>Original</td>\n",
       "      <td>9/12/2018</td>\n",
       "      <td>DCM</td>\n",
       "      <td>3/22/2020</td>\n",
       "      <td>941_S_6581-Accelerated_Sagittal_MPRAGE-2018-09...</td>\n",
       "    </tr>\n",
       "    <tr>\n",
       "      <th>1</th>\n",
       "      <td>1046736</td>\n",
       "      <td>941_S_6580</td>\n",
       "      <td>CN</td>\n",
       "      <td>F</td>\n",
       "      <td>80</td>\n",
       "      <td>1</td>\n",
       "      <td>MRI</td>\n",
       "      <td>Accelerated Sagittal MPRAGE</td>\n",
       "      <td>Original</td>\n",
       "      <td>9/07/2018</td>\n",
       "      <td>DCM</td>\n",
       "      <td>3/22/2020</td>\n",
       "      <td>941_S_6580-Accelerated_Sagittal_MPRAGE-2018-09...</td>\n",
       "    </tr>\n",
       "    <tr>\n",
       "      <th>2</th>\n",
       "      <td>1226810</td>\n",
       "      <td>941_S_6580</td>\n",
       "      <td>CN</td>\n",
       "      <td>F</td>\n",
       "      <td>81</td>\n",
       "      <td>102</td>\n",
       "      <td>MRI</td>\n",
       "      <td>Accelerated Sagittal MPRAGE</td>\n",
       "      <td>Original</td>\n",
       "      <td>9/13/2019</td>\n",
       "      <td>DCM</td>\n",
       "      <td>3/22/2020</td>\n",
       "      <td>941_S_6580-Accelerated_Sagittal_MPRAGE-2019-09...</td>\n",
       "    </tr>\n",
       "    <tr>\n",
       "      <th>3</th>\n",
       "      <td>1045984</td>\n",
       "      <td>941_S_6575</td>\n",
       "      <td>CN</td>\n",
       "      <td>M</td>\n",
       "      <td>73</td>\n",
       "      <td>1</td>\n",
       "      <td>MRI</td>\n",
       "      <td>Accelerated Sagittal MPRAGE</td>\n",
       "      <td>Original</td>\n",
       "      <td>9/05/2018</td>\n",
       "      <td>DCM</td>\n",
       "      <td>3/22/2020</td>\n",
       "      <td>941_S_6575-Accelerated_Sagittal_MPRAGE-2018-09...</td>\n",
       "    </tr>\n",
       "    <tr>\n",
       "      <th>4</th>\n",
       "      <td>1227239</td>\n",
       "      <td>941_S_6575</td>\n",
       "      <td>CN</td>\n",
       "      <td>M</td>\n",
       "      <td>75</td>\n",
       "      <td>102</td>\n",
       "      <td>MRI</td>\n",
       "      <td>Accelerated Sagittal MPRAGE</td>\n",
       "      <td>Original</td>\n",
       "      <td>9/16/2019</td>\n",
       "      <td>DCM</td>\n",
       "      <td>3/22/2020</td>\n",
       "      <td>941_S_6575-Accelerated_Sagittal_MPRAGE-2019-09...</td>\n",
       "    </tr>\n",
       "  </tbody>\n",
       "</table>\n",
       "</div>"
      ],
      "text/plain": [
       "   Image Data ID     Subject Group Sex  Age  Visit Modality  \\\n",
       "0        1048378  941_S_6581    CN   F   74      1      MRI   \n",
       "1        1046736  941_S_6580    CN   F   80      1      MRI   \n",
       "2        1226810  941_S_6580    CN   F   81    102      MRI   \n",
       "3        1045984  941_S_6575    CN   M   73      1      MRI   \n",
       "4        1227239  941_S_6575    CN   M   75    102      MRI   \n",
       "\n",
       "                   Description      Type   Acq Date Format Downloaded  \\\n",
       "0  Accelerated Sagittal MPRAGE  Original  9/12/2018    DCM  3/22/2020   \n",
       "1  Accelerated Sagittal MPRAGE  Original  9/07/2018    DCM  3/22/2020   \n",
       "2  Accelerated Sagittal MPRAGE  Original  9/13/2019    DCM  3/22/2020   \n",
       "3  Accelerated Sagittal MPRAGE  Original  9/05/2018    DCM  3/22/2020   \n",
       "4  Accelerated Sagittal MPRAGE  Original  9/16/2019    DCM  3/22/2020   \n",
       "\n",
       "                                          File Names  \n",
       "0  941_S_6581-Accelerated_Sagittal_MPRAGE-2018-09...  \n",
       "1  941_S_6580-Accelerated_Sagittal_MPRAGE-2018-09...  \n",
       "2  941_S_6580-Accelerated_Sagittal_MPRAGE-2019-09...  \n",
       "3  941_S_6575-Accelerated_Sagittal_MPRAGE-2018-09...  \n",
       "4  941_S_6575-Accelerated_Sagittal_MPRAGE-2019-09...  "
      ]
     },
     "execution_count": 187,
     "metadata": {},
     "output_type": "execute_result"
    }
   ],
   "source": [
    "cv = cv.drop(columns=['Unnamed: 0'])\n",
    "cv.head()\n"
   ]
  },
  {
   "cell_type": "code",
   "execution_count": 188,
   "metadata": {},
   "outputs": [],
   "source": [
    "cv['NoSkullFileName'] = cv['File Names']"
   ]
  },
  {
   "cell_type": "code",
   "execution_count": 189,
   "metadata": {},
   "outputs": [
    {
     "data": {
      "text/html": [
       "<div>\n",
       "<style scoped>\n",
       "    .dataframe tbody tr th:only-of-type {\n",
       "        vertical-align: middle;\n",
       "    }\n",
       "\n",
       "    .dataframe tbody tr th {\n",
       "        vertical-align: top;\n",
       "    }\n",
       "\n",
       "    .dataframe thead th {\n",
       "        text-align: right;\n",
       "    }\n",
       "</style>\n",
       "<table border=\"1\" class=\"dataframe\">\n",
       "  <thead>\n",
       "    <tr style=\"text-align: right;\">\n",
       "      <th></th>\n",
       "      <th>Image Data ID</th>\n",
       "      <th>Subject</th>\n",
       "      <th>Group</th>\n",
       "      <th>Sex</th>\n",
       "      <th>Age</th>\n",
       "      <th>Visit</th>\n",
       "      <th>Modality</th>\n",
       "      <th>Description</th>\n",
       "      <th>Type</th>\n",
       "      <th>Acq Date</th>\n",
       "      <th>Format</th>\n",
       "      <th>Downloaded</th>\n",
       "      <th>File Names</th>\n",
       "      <th>NoSkullFileName</th>\n",
       "    </tr>\n",
       "  </thead>\n",
       "  <tbody>\n",
       "    <tr>\n",
       "      <th>0</th>\n",
       "      <td>1048378</td>\n",
       "      <td>941_S_6581</td>\n",
       "      <td>CN</td>\n",
       "      <td>F</td>\n",
       "      <td>74</td>\n",
       "      <td>1</td>\n",
       "      <td>MRI</td>\n",
       "      <td>Accelerated Sagittal MPRAGE</td>\n",
       "      <td>Original</td>\n",
       "      <td>9/12/2018</td>\n",
       "      <td>DCM</td>\n",
       "      <td>3/22/2020</td>\n",
       "      <td>941_S_6581-Accelerated_Sagittal_MPRAGE-2018-09...</td>\n",
       "      <td>941_S_6581-Accelerated_Sagittal_MPRAGE-2018-09...</td>\n",
       "    </tr>\n",
       "    <tr>\n",
       "      <th>1</th>\n",
       "      <td>1046736</td>\n",
       "      <td>941_S_6580</td>\n",
       "      <td>CN</td>\n",
       "      <td>F</td>\n",
       "      <td>80</td>\n",
       "      <td>1</td>\n",
       "      <td>MRI</td>\n",
       "      <td>Accelerated Sagittal MPRAGE</td>\n",
       "      <td>Original</td>\n",
       "      <td>9/07/2018</td>\n",
       "      <td>DCM</td>\n",
       "      <td>3/22/2020</td>\n",
       "      <td>941_S_6580-Accelerated_Sagittal_MPRAGE-2018-09...</td>\n",
       "      <td>941_S_6580-Accelerated_Sagittal_MPRAGE-2018-09...</td>\n",
       "    </tr>\n",
       "    <tr>\n",
       "      <th>2</th>\n",
       "      <td>1226810</td>\n",
       "      <td>941_S_6580</td>\n",
       "      <td>CN</td>\n",
       "      <td>F</td>\n",
       "      <td>81</td>\n",
       "      <td>102</td>\n",
       "      <td>MRI</td>\n",
       "      <td>Accelerated Sagittal MPRAGE</td>\n",
       "      <td>Original</td>\n",
       "      <td>9/13/2019</td>\n",
       "      <td>DCM</td>\n",
       "      <td>3/22/2020</td>\n",
       "      <td>941_S_6580-Accelerated_Sagittal_MPRAGE-2019-09...</td>\n",
       "      <td>941_S_6580-Accelerated_Sagittal_MPRAGE-2019-09...</td>\n",
       "    </tr>\n",
       "    <tr>\n",
       "      <th>3</th>\n",
       "      <td>1045984</td>\n",
       "      <td>941_S_6575</td>\n",
       "      <td>CN</td>\n",
       "      <td>M</td>\n",
       "      <td>73</td>\n",
       "      <td>1</td>\n",
       "      <td>MRI</td>\n",
       "      <td>Accelerated Sagittal MPRAGE</td>\n",
       "      <td>Original</td>\n",
       "      <td>9/05/2018</td>\n",
       "      <td>DCM</td>\n",
       "      <td>3/22/2020</td>\n",
       "      <td>941_S_6575-Accelerated_Sagittal_MPRAGE-2018-09...</td>\n",
       "      <td>941_S_6575-Accelerated_Sagittal_MPRAGE-2018-09...</td>\n",
       "    </tr>\n",
       "    <tr>\n",
       "      <th>4</th>\n",
       "      <td>1227239</td>\n",
       "      <td>941_S_6575</td>\n",
       "      <td>CN</td>\n",
       "      <td>M</td>\n",
       "      <td>75</td>\n",
       "      <td>102</td>\n",
       "      <td>MRI</td>\n",
       "      <td>Accelerated Sagittal MPRAGE</td>\n",
       "      <td>Original</td>\n",
       "      <td>9/16/2019</td>\n",
       "      <td>DCM</td>\n",
       "      <td>3/22/2020</td>\n",
       "      <td>941_S_6575-Accelerated_Sagittal_MPRAGE-2019-09...</td>\n",
       "      <td>941_S_6575-Accelerated_Sagittal_MPRAGE-2019-09...</td>\n",
       "    </tr>\n",
       "  </tbody>\n",
       "</table>\n",
       "</div>"
      ],
      "text/plain": [
       "   Image Data ID     Subject Group Sex  Age  Visit Modality  \\\n",
       "0        1048378  941_S_6581    CN   F   74      1      MRI   \n",
       "1        1046736  941_S_6580    CN   F   80      1      MRI   \n",
       "2        1226810  941_S_6580    CN   F   81    102      MRI   \n",
       "3        1045984  941_S_6575    CN   M   73      1      MRI   \n",
       "4        1227239  941_S_6575    CN   M   75    102      MRI   \n",
       "\n",
       "                   Description      Type   Acq Date Format Downloaded  \\\n",
       "0  Accelerated Sagittal MPRAGE  Original  9/12/2018    DCM  3/22/2020   \n",
       "1  Accelerated Sagittal MPRAGE  Original  9/07/2018    DCM  3/22/2020   \n",
       "2  Accelerated Sagittal MPRAGE  Original  9/13/2019    DCM  3/22/2020   \n",
       "3  Accelerated Sagittal MPRAGE  Original  9/05/2018    DCM  3/22/2020   \n",
       "4  Accelerated Sagittal MPRAGE  Original  9/16/2019    DCM  3/22/2020   \n",
       "\n",
       "                                          File Names  \\\n",
       "0  941_S_6581-Accelerated_Sagittal_MPRAGE-2018-09...   \n",
       "1  941_S_6580-Accelerated_Sagittal_MPRAGE-2018-09...   \n",
       "2  941_S_6580-Accelerated_Sagittal_MPRAGE-2019-09...   \n",
       "3  941_S_6575-Accelerated_Sagittal_MPRAGE-2018-09...   \n",
       "4  941_S_6575-Accelerated_Sagittal_MPRAGE-2019-09...   \n",
       "\n",
       "                                     NoSkullFileName  \n",
       "0  941_S_6581-Accelerated_Sagittal_MPRAGE-2018-09...  \n",
       "1  941_S_6580-Accelerated_Sagittal_MPRAGE-2018-09...  \n",
       "2  941_S_6580-Accelerated_Sagittal_MPRAGE-2019-09...  \n",
       "3  941_S_6575-Accelerated_Sagittal_MPRAGE-2018-09...  \n",
       "4  941_S_6575-Accelerated_Sagittal_MPRAGE-2019-09...  "
      ]
     },
     "execution_count": 189,
     "metadata": {},
     "output_type": "execute_result"
    }
   ],
   "source": [
    "cv.head()"
   ]
  },
  {
   "cell_type": "code",
   "execution_count": 190,
   "metadata": {},
   "outputs": [
    {
     "name": "stderr",
     "output_type": "stream",
     "text": [
      "/usr/local/lib/python3.6/dist-packages/pandas/core/indexing.py:671: SettingWithCopyWarning: \n",
      "A value is trying to be set on a copy of a slice from a DataFrame\n",
      "\n",
      "See the caveats in the documentation: https://pandas.pydata.org/pandas-docs/stable/user_guide/indexing.html#returning-a-view-versus-a-copy\n",
      "  self._setitem_with_indexer(indexer, value)\n"
     ]
    }
   ],
   "source": [
    "for i in range(len(cv['NoSkullFileName'])):\n",
    "    cv['NoSkullFileName'].iloc[i] = '_home_ADNI_' + cv['NoSkullFileName'].iloc[i]\n",
    "    cv['NoSkullFileName'].iloc[i] = cv['NoSkullFileName'].iloc[i].replace('-', '_')\n"
   ]
  },
  {
   "cell_type": "code",
   "execution_count": 191,
   "metadata": {},
   "outputs": [
    {
     "data": {
      "text/html": [
       "<div>\n",
       "<style scoped>\n",
       "    .dataframe tbody tr th:only-of-type {\n",
       "        vertical-align: middle;\n",
       "    }\n",
       "\n",
       "    .dataframe tbody tr th {\n",
       "        vertical-align: top;\n",
       "    }\n",
       "\n",
       "    .dataframe thead th {\n",
       "        text-align: right;\n",
       "    }\n",
       "</style>\n",
       "<table border=\"1\" class=\"dataframe\">\n",
       "  <thead>\n",
       "    <tr style=\"text-align: right;\">\n",
       "      <th></th>\n",
       "      <th>Image Data ID</th>\n",
       "      <th>Subject</th>\n",
       "      <th>Group</th>\n",
       "      <th>Sex</th>\n",
       "      <th>Age</th>\n",
       "      <th>Visit</th>\n",
       "      <th>Modality</th>\n",
       "      <th>Description</th>\n",
       "      <th>Type</th>\n",
       "      <th>Acq Date</th>\n",
       "      <th>Format</th>\n",
       "      <th>Downloaded</th>\n",
       "      <th>File Names</th>\n",
       "      <th>NoSkullFileName</th>\n",
       "    </tr>\n",
       "  </thead>\n",
       "  <tbody>\n",
       "    <tr>\n",
       "      <th>0</th>\n",
       "      <td>1048378</td>\n",
       "      <td>941_S_6581</td>\n",
       "      <td>CN</td>\n",
       "      <td>F</td>\n",
       "      <td>74</td>\n",
       "      <td>1</td>\n",
       "      <td>MRI</td>\n",
       "      <td>Accelerated Sagittal MPRAGE</td>\n",
       "      <td>Original</td>\n",
       "      <td>9/12/2018</td>\n",
       "      <td>DCM</td>\n",
       "      <td>3/22/2020</td>\n",
       "      <td>941_S_6581-Accelerated_Sagittal_MPRAGE-2018-09...</td>\n",
       "      <td>_home_ADNI_941_S_6581_Accelerated_Sagittal_MPR...</td>\n",
       "    </tr>\n",
       "    <tr>\n",
       "      <th>1</th>\n",
       "      <td>1046736</td>\n",
       "      <td>941_S_6580</td>\n",
       "      <td>CN</td>\n",
       "      <td>F</td>\n",
       "      <td>80</td>\n",
       "      <td>1</td>\n",
       "      <td>MRI</td>\n",
       "      <td>Accelerated Sagittal MPRAGE</td>\n",
       "      <td>Original</td>\n",
       "      <td>9/07/2018</td>\n",
       "      <td>DCM</td>\n",
       "      <td>3/22/2020</td>\n",
       "      <td>941_S_6580-Accelerated_Sagittal_MPRAGE-2018-09...</td>\n",
       "      <td>_home_ADNI_941_S_6580_Accelerated_Sagittal_MPR...</td>\n",
       "    </tr>\n",
       "    <tr>\n",
       "      <th>2</th>\n",
       "      <td>1226810</td>\n",
       "      <td>941_S_6580</td>\n",
       "      <td>CN</td>\n",
       "      <td>F</td>\n",
       "      <td>81</td>\n",
       "      <td>102</td>\n",
       "      <td>MRI</td>\n",
       "      <td>Accelerated Sagittal MPRAGE</td>\n",
       "      <td>Original</td>\n",
       "      <td>9/13/2019</td>\n",
       "      <td>DCM</td>\n",
       "      <td>3/22/2020</td>\n",
       "      <td>941_S_6580-Accelerated_Sagittal_MPRAGE-2019-09...</td>\n",
       "      <td>_home_ADNI_941_S_6580_Accelerated_Sagittal_MPR...</td>\n",
       "    </tr>\n",
       "    <tr>\n",
       "      <th>3</th>\n",
       "      <td>1045984</td>\n",
       "      <td>941_S_6575</td>\n",
       "      <td>CN</td>\n",
       "      <td>M</td>\n",
       "      <td>73</td>\n",
       "      <td>1</td>\n",
       "      <td>MRI</td>\n",
       "      <td>Accelerated Sagittal MPRAGE</td>\n",
       "      <td>Original</td>\n",
       "      <td>9/05/2018</td>\n",
       "      <td>DCM</td>\n",
       "      <td>3/22/2020</td>\n",
       "      <td>941_S_6575-Accelerated_Sagittal_MPRAGE-2018-09...</td>\n",
       "      <td>_home_ADNI_941_S_6575_Accelerated_Sagittal_MPR...</td>\n",
       "    </tr>\n",
       "    <tr>\n",
       "      <th>4</th>\n",
       "      <td>1227239</td>\n",
       "      <td>941_S_6575</td>\n",
       "      <td>CN</td>\n",
       "      <td>M</td>\n",
       "      <td>75</td>\n",
       "      <td>102</td>\n",
       "      <td>MRI</td>\n",
       "      <td>Accelerated Sagittal MPRAGE</td>\n",
       "      <td>Original</td>\n",
       "      <td>9/16/2019</td>\n",
       "      <td>DCM</td>\n",
       "      <td>3/22/2020</td>\n",
       "      <td>941_S_6575-Accelerated_Sagittal_MPRAGE-2019-09...</td>\n",
       "      <td>_home_ADNI_941_S_6575_Accelerated_Sagittal_MPR...</td>\n",
       "    </tr>\n",
       "  </tbody>\n",
       "</table>\n",
       "</div>"
      ],
      "text/plain": [
       "   Image Data ID     Subject Group Sex  Age  Visit Modality  \\\n",
       "0        1048378  941_S_6581    CN   F   74      1      MRI   \n",
       "1        1046736  941_S_6580    CN   F   80      1      MRI   \n",
       "2        1226810  941_S_6580    CN   F   81    102      MRI   \n",
       "3        1045984  941_S_6575    CN   M   73      1      MRI   \n",
       "4        1227239  941_S_6575    CN   M   75    102      MRI   \n",
       "\n",
       "                   Description      Type   Acq Date Format Downloaded  \\\n",
       "0  Accelerated Sagittal MPRAGE  Original  9/12/2018    DCM  3/22/2020   \n",
       "1  Accelerated Sagittal MPRAGE  Original  9/07/2018    DCM  3/22/2020   \n",
       "2  Accelerated Sagittal MPRAGE  Original  9/13/2019    DCM  3/22/2020   \n",
       "3  Accelerated Sagittal MPRAGE  Original  9/05/2018    DCM  3/22/2020   \n",
       "4  Accelerated Sagittal MPRAGE  Original  9/16/2019    DCM  3/22/2020   \n",
       "\n",
       "                                          File Names  \\\n",
       "0  941_S_6581-Accelerated_Sagittal_MPRAGE-2018-09...   \n",
       "1  941_S_6580-Accelerated_Sagittal_MPRAGE-2018-09...   \n",
       "2  941_S_6580-Accelerated_Sagittal_MPRAGE-2019-09...   \n",
       "3  941_S_6575-Accelerated_Sagittal_MPRAGE-2018-09...   \n",
       "4  941_S_6575-Accelerated_Sagittal_MPRAGE-2019-09...   \n",
       "\n",
       "                                     NoSkullFileName  \n",
       "0  _home_ADNI_941_S_6581_Accelerated_Sagittal_MPR...  \n",
       "1  _home_ADNI_941_S_6580_Accelerated_Sagittal_MPR...  \n",
       "2  _home_ADNI_941_S_6580_Accelerated_Sagittal_MPR...  \n",
       "3  _home_ADNI_941_S_6575_Accelerated_Sagittal_MPR...  \n",
       "4  _home_ADNI_941_S_6575_Accelerated_Sagittal_MPR...  "
      ]
     },
     "execution_count": 191,
     "metadata": {},
     "output_type": "execute_result"
    }
   ],
   "source": [
    "cv.head()"
   ]
  },
  {
   "cell_type": "code",
   "execution_count": 197,
   "metadata": {},
   "outputs": [
    {
     "data": {
      "text/plain": [
       "('_home_ADNI_941_S_6581_Accelerated_Sagittal_MPRAGE_2018_09_12_13_47_41.0_S727038.npy',\n",
       " '_home_ADNI_168_S_6817_Accelerated_Sagittal_MPRAGE_MPR_Cor_2019_10_03_11_35_42.0_S880494.npy')"
      ]
     },
     "execution_count": 197,
     "metadata": {},
     "output_type": "execute_result"
    }
   ],
   "source": [
    "cv['NoSkullFileName'].iloc[0] + '.npy', onlyfiles[0]"
   ]
  },
  {
   "cell_type": "code",
   "execution_count": 198,
   "metadata": {},
   "outputs": [],
   "source": [
    "image_path_prefix = '/home/'\n",
    "bad_ind = []\n",
    "bad_files = []\n",
    "for i in range(len(cv['NoSkullFileName'])):\n",
    "    if (cv['NoSkullFileName'].iloc[i] + '.npy') not in onlyfiles:\n",
    "        bad_ind.append(i)\n",
    "        bad_files.append(cv['NoSkullFileName'].iloc[i])"
   ]
  },
  {
   "cell_type": "code",
   "execution_count": 199,
   "metadata": {},
   "outputs": [
    {
     "data": {
      "text/plain": [
       "(31, 1380, 1400)"
      ]
     },
     "execution_count": 199,
     "metadata": {},
     "output_type": "execute_result"
    }
   ],
   "source": [
    "len(bad_ind), len(onlyfiles), len(cv['NoSkullFileName'])"
   ]
  },
  {
   "cell_type": "code",
   "execution_count": 200,
   "metadata": {},
   "outputs": [
    {
     "data": {
      "text/plain": [
       "1369"
      ]
     },
     "execution_count": 200,
     "metadata": {},
     "output_type": "execute_result"
    }
   ],
   "source": [
    "len(cv[~cv['NoSkullFileName'].isin(bad_files)])"
   ]
  },
  {
   "cell_type": "code",
   "execution_count": 204,
   "metadata": {},
   "outputs": [],
   "source": [
    "cv_processed = cv[~cv['NoSkullFileName'].isin(bad_files)]\n",
    "cv_processed = cv_processed.drop(columns=['File Names'])\n",
    "cv_processed.rename(columns={'NoSkullFileName':'File Names'}, inplace=True)\n",
    "cv_processed.to_csv('/home/ADNI_cut/data.csv')"
   ]
  },
  {
   "cell_type": "code",
   "execution_count": 205,
   "metadata": {},
   "outputs": [
    {
     "data": {
      "text/html": [
       "<div>\n",
       "<style scoped>\n",
       "    .dataframe tbody tr th:only-of-type {\n",
       "        vertical-align: middle;\n",
       "    }\n",
       "\n",
       "    .dataframe tbody tr th {\n",
       "        vertical-align: top;\n",
       "    }\n",
       "\n",
       "    .dataframe thead th {\n",
       "        text-align: right;\n",
       "    }\n",
       "</style>\n",
       "<table border=\"1\" class=\"dataframe\">\n",
       "  <thead>\n",
       "    <tr style=\"text-align: right;\">\n",
       "      <th></th>\n",
       "      <th>Image Data ID</th>\n",
       "      <th>Subject</th>\n",
       "      <th>Group</th>\n",
       "      <th>Sex</th>\n",
       "      <th>Age</th>\n",
       "      <th>Visit</th>\n",
       "      <th>Modality</th>\n",
       "      <th>Description</th>\n",
       "      <th>Type</th>\n",
       "      <th>Acq Date</th>\n",
       "      <th>Format</th>\n",
       "      <th>Downloaded</th>\n",
       "      <th>File Names</th>\n",
       "    </tr>\n",
       "  </thead>\n",
       "  <tbody>\n",
       "    <tr>\n",
       "      <th>0</th>\n",
       "      <td>1048378</td>\n",
       "      <td>941_S_6581</td>\n",
       "      <td>CN</td>\n",
       "      <td>F</td>\n",
       "      <td>74</td>\n",
       "      <td>1</td>\n",
       "      <td>MRI</td>\n",
       "      <td>Accelerated Sagittal MPRAGE</td>\n",
       "      <td>Original</td>\n",
       "      <td>9/12/2018</td>\n",
       "      <td>DCM</td>\n",
       "      <td>3/22/2020</td>\n",
       "      <td>_home_ADNI_941_S_6581_Accelerated_Sagittal_MPR...</td>\n",
       "    </tr>\n",
       "    <tr>\n",
       "      <th>1</th>\n",
       "      <td>1046736</td>\n",
       "      <td>941_S_6580</td>\n",
       "      <td>CN</td>\n",
       "      <td>F</td>\n",
       "      <td>80</td>\n",
       "      <td>1</td>\n",
       "      <td>MRI</td>\n",
       "      <td>Accelerated Sagittal MPRAGE</td>\n",
       "      <td>Original</td>\n",
       "      <td>9/07/2018</td>\n",
       "      <td>DCM</td>\n",
       "      <td>3/22/2020</td>\n",
       "      <td>_home_ADNI_941_S_6580_Accelerated_Sagittal_MPR...</td>\n",
       "    </tr>\n",
       "    <tr>\n",
       "      <th>2</th>\n",
       "      <td>1226810</td>\n",
       "      <td>941_S_6580</td>\n",
       "      <td>CN</td>\n",
       "      <td>F</td>\n",
       "      <td>81</td>\n",
       "      <td>102</td>\n",
       "      <td>MRI</td>\n",
       "      <td>Accelerated Sagittal MPRAGE</td>\n",
       "      <td>Original</td>\n",
       "      <td>9/13/2019</td>\n",
       "      <td>DCM</td>\n",
       "      <td>3/22/2020</td>\n",
       "      <td>_home_ADNI_941_S_6580_Accelerated_Sagittal_MPR...</td>\n",
       "    </tr>\n",
       "    <tr>\n",
       "      <th>3</th>\n",
       "      <td>1045984</td>\n",
       "      <td>941_S_6575</td>\n",
       "      <td>CN</td>\n",
       "      <td>M</td>\n",
       "      <td>73</td>\n",
       "      <td>1</td>\n",
       "      <td>MRI</td>\n",
       "      <td>Accelerated Sagittal MPRAGE</td>\n",
       "      <td>Original</td>\n",
       "      <td>9/05/2018</td>\n",
       "      <td>DCM</td>\n",
       "      <td>3/22/2020</td>\n",
       "      <td>_home_ADNI_941_S_6575_Accelerated_Sagittal_MPR...</td>\n",
       "    </tr>\n",
       "    <tr>\n",
       "      <th>4</th>\n",
       "      <td>1227239</td>\n",
       "      <td>941_S_6575</td>\n",
       "      <td>CN</td>\n",
       "      <td>M</td>\n",
       "      <td>75</td>\n",
       "      <td>102</td>\n",
       "      <td>MRI</td>\n",
       "      <td>Accelerated Sagittal MPRAGE</td>\n",
       "      <td>Original</td>\n",
       "      <td>9/16/2019</td>\n",
       "      <td>DCM</td>\n",
       "      <td>3/22/2020</td>\n",
       "      <td>_home_ADNI_941_S_6575_Accelerated_Sagittal_MPR...</td>\n",
       "    </tr>\n",
       "  </tbody>\n",
       "</table>\n",
       "</div>"
      ],
      "text/plain": [
       "   Image Data ID     Subject Group Sex  Age  Visit Modality  \\\n",
       "0        1048378  941_S_6581    CN   F   74      1      MRI   \n",
       "1        1046736  941_S_6580    CN   F   80      1      MRI   \n",
       "2        1226810  941_S_6580    CN   F   81    102      MRI   \n",
       "3        1045984  941_S_6575    CN   M   73      1      MRI   \n",
       "4        1227239  941_S_6575    CN   M   75    102      MRI   \n",
       "\n",
       "                   Description      Type   Acq Date Format Downloaded  \\\n",
       "0  Accelerated Sagittal MPRAGE  Original  9/12/2018    DCM  3/22/2020   \n",
       "1  Accelerated Sagittal MPRAGE  Original  9/07/2018    DCM  3/22/2020   \n",
       "2  Accelerated Sagittal MPRAGE  Original  9/13/2019    DCM  3/22/2020   \n",
       "3  Accelerated Sagittal MPRAGE  Original  9/05/2018    DCM  3/22/2020   \n",
       "4  Accelerated Sagittal MPRAGE  Original  9/16/2019    DCM  3/22/2020   \n",
       "\n",
       "                                          File Names  \n",
       "0  _home_ADNI_941_S_6581_Accelerated_Sagittal_MPR...  \n",
       "1  _home_ADNI_941_S_6580_Accelerated_Sagittal_MPR...  \n",
       "2  _home_ADNI_941_S_6580_Accelerated_Sagittal_MPR...  \n",
       "3  _home_ADNI_941_S_6575_Accelerated_Sagittal_MPR...  \n",
       "4  _home_ADNI_941_S_6575_Accelerated_Sagittal_MPR...  "
      ]
     },
     "execution_count": 205,
     "metadata": {},
     "output_type": "execute_result"
    }
   ],
   "source": [
    "cv_processed.head()"
   ]
  },
  {
   "cell_type": "code",
   "execution_count": null,
   "metadata": {},
   "outputs": [],
   "source": []
  },
  {
   "cell_type": "code",
   "execution_count": 209,
   "metadata": {},
   "outputs": [
    {
     "name": "stdout",
     "output_type": "stream",
     "text": [
      "(230, 230, 175)\n"
     ]
    },
    {
     "data": {
      "text/plain": [
       "<matplotlib.image.AxesImage at 0x7f68f77a7278>"
      ]
     },
     "execution_count": 209,
     "metadata": {},
     "output_type": "execute_result"
    },
    {
     "data": {
      "image/png": "[encoded data removed]",
      "text/plain": [
       "<Figure size 432x288 with 1 Axes>"
      ]
     },
     "metadata": {
      "needs_background": "light"
     },
     "output_type": "display_data"
    }
   ],
   "source": [
    "cv_new = pd.read_csv('/home/ADNI_cut/data.csv')\n",
    "\n",
    "row = cv_new.sample(1)\n",
    "image_path_prefix = '/home/ADNI_cut/'\n",
    "img = np.load(image_path_prefix + row['File Names'].iloc[0]+'.npy', allow_pickle=True)\n",
    "print(img.shape)\n",
    "plt.imshow(img[100, :, :])"
   ]
  },
  {
   "cell_type": "code",
   "execution_count": 218,
   "metadata": {},
   "outputs": [
    {
     "data": {
      "text/plain": [
       "CN      641\n",
       "MCI     318\n",
       "EMCI    157\n",
       "AD       98\n",
       "SMC      82\n",
       "LMCI     73\n",
       "Name: Group, dtype: int64"
      ]
     },
     "execution_count": 218,
     "metadata": {},
     "output_type": "execute_result"
    }
   ],
   "source": [
    "cv_new['Group'].value_counts()"
   ]
  },
  {
   "cell_type": "markdown",
   "metadata": {},
   "source": [
    "#old \n",
    "CN      658\n",
    "MCI     322\n",
    "EMCI    160\n",
    "AD      100\n",
    "SMC      84\n",
    "LMCI     76"
   ]
  },
  {
   "cell_type": "code",
   "execution_count": 211,
   "metadata": {},
   "outputs": [
    {
     "data": {
      "text/plain": [
       "(1369, 14)"
      ]
     },
     "execution_count": 211,
     "metadata": {},
     "output_type": "execute_result"
    }
   ],
   "source": [
    "cv_new.shape"
   ]
  },
  {
   "cell_type": "markdown",
   "metadata": {},
   "source": [
    "Наверно можно заюзать эти 10 изображений если откапать старую csv"
   ]
  },
  {
   "cell_type": "code",
   "execution_count": 147,
   "metadata": {},
   "outputs": [],
   "source": [
    "names_in_csv = cv['NoSkullFileName'].values\n",
    "names_in_csv = [name[9:] for name in names_in_csv]"
   ]
  },
  {
   "cell_type": "code",
   "execution_count": 149,
   "metadata": {},
   "outputs": [
    {
     "data": {
      "text/plain": [
       "{'_home_ADNI_031_S_2018_Sagittal_3D_Accelerated_MPRAGE_2019_01_24_11_26_13.0_S788128.npy',\n",
       " '_home_ADNI_031_S_2233_Sagittal_3D_Accelerated_MPRAGE_2019_02_21_09_37_51.0_S890637.npy',\n",
       " '_home_ADNI_031_S_4149_Sagittal_3D_Accelerated_MPRAGE_2019_02_27_12_09_21.0_S801543.npy',\n",
       " '_home_ADNI_035_S_6841_Accelerated_Sagittal_MPRAGE_Phase_A_P_2019_12_13_12_51_18.0_S905706.npy',\n",
       " '_home_ADNI_051_S_6527_Accelerated_Sagittal_MPRAGE_2018_08_29_13_37_41.0_S723541.npy',\n",
       " '_home_ADNI_114_S_4404_Accelerated_Sagittal_MPRAGE_2019_10_24_12_25_00.0_S897962.npy',\n",
       " '_home_ADNI_129_S_6482_Accelerated_Sag_IR_FSPGR_2018_07_13_14_21_25.0_S704609.npy',\n",
       " '_home_ADNI_131_S_6170_Sagittal_3D_Accelerated_MPRAGE_2018_05_14_17_45_03.0_S685474.npy',\n",
       " '_home_ADNI_131_S_6519_Sagittal_3D_Accelerated_MPRAGE_2018_07_31_15_43_05.0_S713874.npy',\n",
       " '_home_ADNI_305_S_6263_Sagittal_3D_Accelerated_MPRAGE_2018_03_07_12_56_45.0_S664904.npy'}"
      ]
     },
     "execution_count": 149,
     "metadata": {},
     "output_type": "execute_result"
    }
   ],
   "source": [
    "set(onlyfiles).difference(set(names_in_csv))"
   ]
  },
  {
   "cell_type": "code",
   "execution_count": 159,
   "metadata": {},
   "outputs": [
    {
     "name": "stdout",
     "output_type": "stream",
     "text": [
      "(154, 256, 256)\n",
      "(160, 240, 256)\n",
      "(160, 256, 256)\n",
      "(208, 240, 256)\n",
      "(211, 256, 256)\n",
      "(165, 256, 256)\n",
      "(196, 256, 256)\n",
      "(170, 256, 256)\n",
      "(171, 256, 256)\n",
      "(208, 240, 256)\n"
     ]
    },
    {
     "data": {
      "image/png": "[encoded data removed]",
      "text/plain": [
       "<Figure size 1440x720 with 10 Axes>"
      ]
     },
     "metadata": {
      "needs_background": "light"
     },
     "output_type": "display_data"
    }
   ],
   "source": [
    "not_in_csv_images = list(set(onlyfiles).difference(set(names_in_csv)))\n",
    "fig, ax = plt.subplots(1, len(not_in_csv_images), figsize=(20, 10))\n",
    "\n",
    "for i, image_name in enumerate(not_in_csv_images):\n",
    "\n",
    "    img = np.load(image_path_prefix + 'ADNI_cut/' + image_name, allow_pickle=True)\n",
    "    ax[i].imshow(img[100, :, :])\n",
    "    print(img.shape)"
   ]
  },
  {
   "cell_type": "code",
   "execution_count": 156,
   "metadata": {},
   "outputs": [
    {
     "data": {
      "text/plain": [
       "<matplotlib.image.AxesImage at 0x7f68f7395d30>"
      ]
     },
     "execution_count": 156,
     "metadata": {},
     "output_type": "execute_result"
    },
    {
     "data": {
      "image/png": "[encoded data removed]",
      "text/plain": [
       "<Figure size 432x288 with 1 Axes>"
      ]
     },
     "metadata": {
      "needs_background": "light"
     },
     "output_type": "display_data"
    }
   ],
   "source": [
    "old_cv = pd.read_csv('/home/ADNI/')"
   ]
  },
  {
   "cell_type": "code",
   "execution_count": null,
   "metadata": {},
   "outputs": [],
   "source": []
  },
  {
   "cell_type": "code",
   "execution_count": null,
   "metadata": {},
   "outputs": [],
   "source": []
  }
 ],
 "metadata": {
  "kernelspec": {
   "display_name": "Python 3",
   "language": "python",
   "name": "python3"
  },
  "language_info": {
   "codemirror_mode": {
    "name": "ipython",
    "version": 3
   },
   "file_extension": ".py",
   "mimetype": "text/x-python",
   "name": "python",
   "nbconvert_exporter": "python",
   "pygments_lexer": "ipython3",
   "version": "3.6.9"
  }
 },
 "nbformat": 4,
 "nbformat_minor": 4
}
